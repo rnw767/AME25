{
 "cells": [
  {
   "cell_type": "markdown",
   "metadata": {},
   "source": [
    "# Production Technology\n",
    "\n",
    "The dataset contains `N = 441` firms observed over `T = 12` years, 1968-1979. There variables are: \n",
    "* `lcap`: Log of capital stock, $k_{it}$ \n",
    "* `lemp`: log of employment, $\\ell_{it}$ \n",
    "* `ldsa`: log of deflated sales, $y_{it}$\n",
    "* `year`: the calendar year of the observation, `year` $ = 1968, ..., 1979$, \n",
    "* `firmid`: anonymized indicator variable for the firm, $i = 1, ..., N$, with $N=441$. "
   ]
  },
  {
   "cell_type": "code",
   "execution_count": 1,
   "metadata": {},
   "outputs": [],
   "source": [
    "import pandas as pd \n",
    "import numpy as np\n",
    "import seaborn as sns\n",
    "import w3_LinearModels as lm\n",
    "from scipy.stats import chi2\n",
    "import numpy.linalg as la\n",
    "from numpy import linalg as la\n",
    "import scipy.stats as st\n",
    "import importlib.util, sys\n"
   ]
  },
  {
   "cell_type": "code",
   "execution_count": 2,
   "metadata": {},
   "outputs": [
    {
     "name": "stdout",
     "output_type": "stream",
     "text": [
      "Pooled OLS\n",
      "Dependent variable: Log deflated sales\n",
      "\n",
      "            Beta      Se    t-values\n",
      "--------  ------  ------  ----------\n",
      "Constant  0.0000  0.0161      0.0000\n",
      "Capital   0.3100  0.0324      9.5810\n",
      "Labor     0.6748  0.0366     18.4526\n",
      "R² = 0.914\n",
      "σ² = 0.131\n"
     ]
    }
   ],
   "source": [
    "# --- loader ---\n",
    "def load_firm_data(path=\"firms.csv\"):\n",
    "    dat = pd.read_csv(path)\n",
    "    y = dat[\"ldsa\"].values.reshape(-1, 1)\n",
    "    x = np.column_stack([np.ones(dat.shape[0]), dat[\"lcap\"].values, dat[\"lemp\"].values])\n",
    "    T = dat[\"year\"].nunique()  # 12\n",
    "    label_y = \"Log deflated sales\"\n",
    "    label_x = [\"Constant\", \"Capital\", \"Labor\"]\n",
    "    return y, x, T, dat[\"year\"].values, label_y, label_x\n",
    "\n",
    "# --- import your course module from file ---\n",
    "module_path = \"w3_LinearModels.py\"\n",
    "spec = importlib.util.spec_from_file_location(\"w3_LinearModels\", module_path)\n",
    "lm = importlib.util.module_from_spec(spec)\n",
    "sys.modules[\"w3_LinearModels\"] = lm\n",
    "spec.loader.exec_module(lm)\n",
    "\n",
    "# --- run POLS ---\n",
    "y, x, T, year, label_y, label_x = load_firm_data(\"firms.csv\")\n",
    "pols_result = lm.estimate(y, x, T=T)  # add robust_se=True if you want robust SEs\n",
    "lm.print_table((label_y, label_x), pols_result, title=\"Pooled OLS\", floatfmt=\".4f\")\n"
   ]
  },
  {
   "cell_type": "code",
   "execution_count": 3,
   "metadata": {},
   "outputs": [],
   "source": [
    "dat = pd.read_csv('firms.csv')"
   ]
  },
  {
   "cell_type": "code",
   "execution_count": 4,
   "metadata": {},
   "outputs": [
    {
     "data": {
      "text/html": [
       "<div>\n",
       "<style scoped>\n",
       "    .dataframe tbody tr th:only-of-type {\n",
       "        vertical-align: middle;\n",
       "    }\n",
       "\n",
       "    .dataframe tbody tr th {\n",
       "        vertical-align: top;\n",
       "    }\n",
       "\n",
       "    .dataframe thead th {\n",
       "        text-align: right;\n",
       "    }\n",
       "</style>\n",
       "<table border=\"1\" class=\"dataframe\">\n",
       "  <thead>\n",
       "    <tr style=\"text-align: right;\">\n",
       "      <th></th>\n",
       "      <th>firmid</th>\n",
       "      <th>year</th>\n",
       "      <th>lcap</th>\n",
       "      <th>lemp</th>\n",
       "      <th>ldsa</th>\n",
       "    </tr>\n",
       "  </thead>\n",
       "  <tbody>\n",
       "    <tr>\n",
       "      <th>4003</th>\n",
       "      <td>334</td>\n",
       "      <td>1975</td>\n",
       "      <td>-1.845570</td>\n",
       "      <td>-1.505960</td>\n",
       "      <td>-1.750110</td>\n",
       "    </tr>\n",
       "    <tr>\n",
       "      <th>4419</th>\n",
       "      <td>369</td>\n",
       "      <td>1971</td>\n",
       "      <td>-2.098710</td>\n",
       "      <td>-1.537660</td>\n",
       "      <td>-1.574830</td>\n",
       "    </tr>\n",
       "    <tr>\n",
       "      <th>2929</th>\n",
       "      <td>245</td>\n",
       "      <td>1969</td>\n",
       "      <td>-0.856710</td>\n",
       "      <td>-0.704818</td>\n",
       "      <td>-0.699617</td>\n",
       "    </tr>\n",
       "    <tr>\n",
       "      <th>2534</th>\n",
       "      <td>212</td>\n",
       "      <td>1970</td>\n",
       "      <td>0.656656</td>\n",
       "      <td>0.865232</td>\n",
       "      <td>1.038985</td>\n",
       "    </tr>\n",
       "    <tr>\n",
       "      <th>3001</th>\n",
       "      <td>251</td>\n",
       "      <td>1969</td>\n",
       "      <td>2.949467</td>\n",
       "      <td>2.739544</td>\n",
       "      <td>2.407122</td>\n",
       "    </tr>\n",
       "  </tbody>\n",
       "</table>\n",
       "</div>"
      ],
      "text/plain": [
       "      firmid  year      lcap      lemp      ldsa\n",
       "4003     334  1975 -1.845570 -1.505960 -1.750110\n",
       "4419     369  1971 -2.098710 -1.537660 -1.574830\n",
       "2929     245  1969 -0.856710 -0.704818 -0.699617\n",
       "2534     212  1970  0.656656  0.865232  1.038985\n",
       "3001     251  1969  2.949467  2.739544  2.407122"
      ]
     },
     "execution_count": 4,
     "metadata": {},
     "output_type": "execute_result"
    }
   ],
   "source": [
    "dat.sample(5)"
   ]
  },
  {
   "cell_type": "code",
   "execution_count": 5,
   "metadata": {},
   "outputs": [
    {
     "data": {
      "text/plain": [
       "array([1968, 1969, 1970, 1971, 1972, 1973, 1974, 1975, 1976, 1977, 1978,\n",
       "       1979])"
      ]
     },
     "execution_count": 5,
     "metadata": {},
     "output_type": "execute_result"
    }
   ],
   "source": [
    "dat.year.unique()"
   ]
  },
  {
   "cell_type": "markdown",
   "metadata": {},
   "source": [
    "# Descriptives"
   ]
  },
  {
   "cell_type": "code",
   "execution_count": 6,
   "metadata": {},
   "outputs": [
    {
     "data": {
      "text/html": [
       "<div>\n",
       "<style scoped>\n",
       "    .dataframe tbody tr th:only-of-type {\n",
       "        vertical-align: middle;\n",
       "    }\n",
       "\n",
       "    .dataframe tbody tr th {\n",
       "        vertical-align: top;\n",
       "    }\n",
       "\n",
       "    .dataframe thead th {\n",
       "        text-align: right;\n",
       "    }\n",
       "</style>\n",
       "<table border=\"1\" class=\"dataframe\">\n",
       "  <thead>\n",
       "    <tr style=\"text-align: right;\">\n",
       "      <th></th>\n",
       "      <th>firmid</th>\n",
       "      <th>year</th>\n",
       "      <th>lcap</th>\n",
       "      <th>lemp</th>\n",
       "      <th>ldsa</th>\n",
       "    </tr>\n",
       "  </thead>\n",
       "  <tbody>\n",
       "    <tr>\n",
       "      <th>count</th>\n",
       "      <td>5292.000000</td>\n",
       "      <td>5292.000000</td>\n",
       "      <td>5.292000e+03</td>\n",
       "      <td>5.292000e+03</td>\n",
       "      <td>5.292000e+03</td>\n",
       "    </tr>\n",
       "    <tr>\n",
       "      <th>mean</th>\n",
       "      <td>221.000000</td>\n",
       "      <td>1973.500000</td>\n",
       "      <td>-7.125472e-09</td>\n",
       "      <td>-1.252834e-08</td>\n",
       "      <td>4.695767e-09</td>\n",
       "    </tr>\n",
       "    <tr>\n",
       "      <th>std</th>\n",
       "      <td>127.317437</td>\n",
       "      <td>3.452379</td>\n",
       "      <td>1.310973e+00</td>\n",
       "      <td>1.180122e+00</td>\n",
       "      <td>1.232499e+00</td>\n",
       "    </tr>\n",
       "    <tr>\n",
       "      <th>min</th>\n",
       "      <td>1.000000</td>\n",
       "      <td>1968.000000</td>\n",
       "      <td>-3.864950e+00</td>\n",
       "      <td>-3.382780e+00</td>\n",
       "      <td>-3.551540e+00</td>\n",
       "    </tr>\n",
       "    <tr>\n",
       "      <th>25%</th>\n",
       "      <td>111.000000</td>\n",
       "      <td>1970.750000</td>\n",
       "      <td>-9.083267e-01</td>\n",
       "      <td>-7.855270e-01</td>\n",
       "      <td>-9.279720e-01</td>\n",
       "    </tr>\n",
       "    <tr>\n",
       "      <th>50%</th>\n",
       "      <td>221.000000</td>\n",
       "      <td>1973.500000</td>\n",
       "      <td>-1.180615e-01</td>\n",
       "      <td>-1.137295e-01</td>\n",
       "      <td>-1.029710e-01</td>\n",
       "    </tr>\n",
       "    <tr>\n",
       "      <th>75%</th>\n",
       "      <td>331.000000</td>\n",
       "      <td>1976.250000</td>\n",
       "      <td>9.063340e-01</td>\n",
       "      <td>7.930060e-01</td>\n",
       "      <td>8.562296e-01</td>\n",
       "    </tr>\n",
       "    <tr>\n",
       "      <th>max</th>\n",
       "      <td>441.000000</td>\n",
       "      <td>1979.000000</td>\n",
       "      <td>4.103687e+00</td>\n",
       "      <td>3.371332e+00</td>\n",
       "      <td>3.913391e+00</td>\n",
       "    </tr>\n",
       "  </tbody>\n",
       "</table>\n",
       "</div>"
      ],
      "text/plain": [
       "            firmid         year          lcap          lemp          ldsa\n",
       "count  5292.000000  5292.000000  5.292000e+03  5.292000e+03  5.292000e+03\n",
       "mean    221.000000  1973.500000 -7.125472e-09 -1.252834e-08  4.695767e-09\n",
       "std     127.317437     3.452379  1.310973e+00  1.180122e+00  1.232499e+00\n",
       "min       1.000000  1968.000000 -3.864950e+00 -3.382780e+00 -3.551540e+00\n",
       "25%     111.000000  1970.750000 -9.083267e-01 -7.855270e-01 -9.279720e-01\n",
       "50%     221.000000  1973.500000 -1.180615e-01 -1.137295e-01 -1.029710e-01\n",
       "75%     331.000000  1976.250000  9.063340e-01  7.930060e-01  8.562296e-01\n",
       "max     441.000000  1979.000000  4.103687e+00  3.371332e+00  3.913391e+00"
      ]
     },
     "execution_count": 6,
     "metadata": {},
     "output_type": "execute_result"
    }
   ],
   "source": [
    "dat.describe()"
   ]
  },
  {
   "cell_type": "code",
   "execution_count": 7,
   "metadata": {},
   "outputs": [
    {
     "data": {
      "image/png": "[encoded data removed]",
      "text/plain": [
       "<Figure size 640x480 with 4 Axes>"
      ]
     },
     "metadata": {},
     "output_type": "display_data"
    }
   ],
   "source": [
    "dat[['lcap','lemp','ldsa']].hist();"
   ]
  },
  {
   "cell_type": "code",
   "execution_count": 8,
   "metadata": {},
   "outputs": [
    {
     "data": {
      "image/png": "[encoded data removed]",
      "text/plain": [
       "<Figure size 640x480 with 1 Axes>"
      ]
     },
     "metadata": {},
     "output_type": "display_data"
    }
   ],
   "source": [
    "sns.scatterplot(x='lemp', y='ldsa', data=dat); "
   ]
  },
  {
   "cell_type": "markdown",
   "metadata": {},
   "source": [
    "# Converting data to numpy format "
   ]
  },
  {
   "cell_type": "code",
   "execution_count": 9,
   "metadata": {},
   "outputs": [
    {
     "data": {
      "text/plain": [
       "(5292,)"
      ]
     },
     "execution_count": 9,
     "metadata": {},
     "output_type": "execute_result"
    }
   ],
   "source": [
    "dat.ldsa.values.shape"
   ]
  },
  {
   "cell_type": "code",
   "execution_count": 10,
   "metadata": {},
   "outputs": [
    {
     "name": "stdout",
     "output_type": "stream",
     "text": [
      "Data has N=441 and T=12\n"
     ]
    }
   ],
   "source": [
    "N = dat.firmid.unique().size\n",
    "T = dat.year.unique().size\n",
    "assert dat.shape[0] == N*T, f'Error: data is not a balanced panel'\n",
    "print(f'Data has N={N} and T={T}')"
   ]
  },
  {
   "cell_type": "markdown",
   "metadata": {},
   "source": [
    "Extract data from `pandas` to `numpy` arrays. "
   ]
  },
  {
   "cell_type": "code",
   "execution_count": 11,
   "metadata": {},
   "outputs": [],
   "source": [
    "y = dat.ldsa.values.reshape((N*T,1))\n",
    "\n",
    "ones = np.ones((N*T,1))\n",
    "l = dat.lemp.values.reshape((N*T,1))\n",
    "k = dat.lcap.values.reshape((N*T,1))\n",
    "X = np.hstack([ones, l, k])"
   ]
  },
  {
   "cell_type": "code",
   "execution_count": 12,
   "metadata": {},
   "outputs": [
    {
     "name": "stdout",
     "output_type": "stream",
     "text": [
      "OLS coefficients:\n",
      " [[1.53587616e-08]\n",
      " [6.74774492e-01]\n",
      " [3.10040758e-01]]\n"
     ]
    }
   ],
   "source": [
    "from numpy.linalg import inv\n",
    "\n",
    "# OLS estimation: beta_hat = (X'X)^(-1) X'y\n",
    "beta_hat = inv(X.T @ X) @ (X.T @ y)\n",
    "print(\"OLS coefficients:\\n\", beta_hat)"
   ]
  },
  {
   "cell_type": "code",
   "execution_count": 13,
   "metadata": {},
   "outputs": [
    {
     "name": "stdout",
     "output_type": "stream",
     "text": [
      "Pooled OLS\n",
      "Dependent variable: Log deflated sales\n",
      "\n",
      "            Beta      Se    t-values\n",
      "--------  ------  ------  ----------\n",
      "Constant  0.0000  0.0161      0.0000\n",
      "Capital   0.3100  0.0324      9.5810\n",
      "Labor     0.6748  0.0366     18.4526\n",
      "R² = 0.914\n",
      "σ² = 0.131\n"
     ]
    }
   ],
   "source": [
    "import w3_LinearModels as lm\n",
    "\n",
    "# Load firm data\n",
    "y, x, T, year, label_y, label_x = load_firm_data()\n",
    "\n",
    "# Pooled OLS estimation\n",
    "pols_result = lm.estimate(y, x, T=T)\n",
    "\n",
    "# Print results in a nice table\n",
    "lm.print_table((label_y, label_x), pols_result, title=\"Pooled OLS\", floatfmt='.4f')\n"
   ]
  },
  {
   "cell_type": "code",
   "execution_count": 14,
   "metadata": {},
   "outputs": [
    {
     "name": "stdout",
     "output_type": "stream",
     "text": [
      "Pooled OLS (Robust SE)\n",
      "Dependent variable: Log deflated sales\n",
      "\n",
      "            Beta      Se    t-values\n",
      "--------  ------  ------  ----------\n",
      "Constant  0.0000  0.0161      0.0000\n",
      "Capital   0.3100  0.0324      9.5810\n",
      "Labor     0.6748  0.0366     18.4526\n",
      "R² = 0.914\n",
      "σ² = 0.131\n"
     ]
    }
   ],
   "source": [
    "pols_result_robust = lm.estimate(y, x, T=T, robust_se=True)\n",
    "lm.print_table((label_y, label_x), pols_result_robust, title=\"Pooled OLS (Robust SE)\", floatfmt='.4f')"
   ]
  },
  {
   "cell_type": "code",
   "execution_count": 15,
   "metadata": {},
   "outputs": [],
   "source": [
    "def remove_zero_columns(x, label_x):\n",
    "    \"\"\"\n",
    "    The function removes columns from a matrix that are all zeros and returns the updated matrix and\n",
    "    corresponding labels.\n",
    "    \n",
    "    Args:\n",
    "      x: The parameter `x` is a numpy array representing a matrix with columns that may contain zeros.\n",
    "      label_x: The parameter `label_x` is a list that contains the labels for each column in the input\n",
    "    array `x`.\n",
    "    \n",
    "    Returns:\n",
    "      x_nonzero: numpy array of x with columns that are all zeros removed.\n",
    "      label_nonzero: list of labels for each column in x_nonzero.\n",
    "    \"\"\"\n",
    "    \n",
    "    # Find the columns that are not all zeros\n",
    "    nonzero_cols = ~np.all(x == 0, axis=0)\n",
    "    \n",
    "    # Remove the columns that are all zeros\n",
    "    x_nonzero = x[:, nonzero_cols]\n",
    "    \n",
    "    # Get the labels for the columns that are not all zeros\n",
    "    label_nonzero = [label_x[i] for i in range(len(label_x)) if nonzero_cols[i]]\n",
    "    return x_nonzero, label_nonzero"
   ]
  },
  {
   "cell_type": "code",
   "execution_count": 16,
   "metadata": {},
   "outputs": [
    {
     "name": "stdout",
     "output_type": "stream",
     "text": [
      "Fixed Effects\n",
      "Dependent variable: Log deflated sales\n",
      "\n",
      "                    Beta                   Se    t-values\n",
      "--------  --------------  -------------------  ----------\n",
      "Constant  174166293.8532  33608578626809.7773      0.0000\n",
      "Capital           0.1546               0.0299      5.1630\n",
      "Labor             0.6942               0.0417     16.6674\n",
      "R² = 0.477\n",
      "σ² = 0.018\n"
     ]
    }
   ],
   "source": [
    "# Transform the data\n",
    "Q_T = np.eye(T) - 1/T * np.ones((T, T))\n",
    "y_dot = lm.perm(Q_T, y)\n",
    "x_dot = lm.perm(Q_T, x)\n",
    "\n",
    "# Remove the columns that are only zeroes\n",
    "x_dot, label_x_dot = remove_zero_columns(x_dot, label_x)\n",
    "\n",
    "# Estimate \n",
    "fe_result = lm.estimate(y_dot, x_dot, transform='fe', T=T, )\n",
    "lm.print_table((label_y, label_x_dot), fe_result, title=\"Fixed Effects\", floatfmt='.4f')"
   ]
  },
  {
   "cell_type": "code",
   "execution_count": 17,
   "metadata": {},
   "outputs": [
    {
     "name": "stdout",
     "output_type": "stream",
     "text": [
      "First Difference\n",
      "Dependent variable: Log deflated sales\n",
      "\n",
      "           Beta      Se    t-values\n",
      "-------  ------  ------  ----------\n",
      "Capital  0.0630  0.0232      2.7097\n",
      "Labor    0.5487  0.0292     18.8191\n",
      "R² = 0.165\n",
      "σ² = 0.014\n"
     ]
    }
   ],
   "source": [
    "# Transform the data\n",
    "D_T = - np.eye(T-1, T) + np.eye(T-1, T, k=1)\n",
    "y_diff = lm.perm(D_T, y)\n",
    "x_diff = lm.perm(D_T, x)\n",
    "\n",
    "# Remove the columns that are only zeroes\n",
    "x_diff, label_x_diff = remove_zero_columns(x_diff, label_x)\n",
    "\n",
    "# Estimate \n",
    "fd_result = lm.estimate(y_diff, x_diff, transform='fd', T=T-1)\n",
    "lm.print_table((label_y, label_x_diff), fd_result, title=\"First Difference\", floatfmt='.4f')"
   ]
  },
  {
   "cell_type": "code",
   "execution_count": 18,
   "metadata": {},
   "outputs": [
    {
     "name": "stdout",
     "output_type": "stream",
     "text": [
      "Between Estimator\n",
      "Dependent variable: Log deflated sales\n",
      "\n",
      "            Beta      Se    t-values\n",
      "--------  ------  ------  ----------\n",
      "Constant  0.0000  0.0137      0.0000\n",
      "Capital   0.3188  0.0349      9.1438\n",
      "Labor     0.6672  0.0412     16.2107\n",
      "R² = 0.923\n",
      "σ² = 0.115\n"
     ]
    }
   ],
   "source": [
    "# Transform the data\n",
    "P_T = np.ones((1,T)) * 1/T\n",
    "y_mean = lm.perm(P_T, y)\n",
    "x_mean = lm.perm(P_T, x)\n",
    "\n",
    "# Estimate \n",
    "be_result = lm.estimate(y_mean, x_mean, transform='be', T=T)\n",
    "lm.print_table((label_y, label_x), be_result, title=\"Between Estimator\", floatfmt='.4f')"
   ]
  },
  {
   "cell_type": "code",
   "execution_count": 19,
   "metadata": {},
   "outputs": [
    {
     "name": "stdout",
     "output_type": "stream",
     "text": [
      "Lambda is approximately equal to 0.8873.\n"
     ]
    }
   ],
   "source": [
    "# Calculate lambda (note lambda is a reserved keyword in Python, so we use _lambda instead)\n",
    "sigma2_u = fe_result['sigma2']\n",
    "sigma2_w = be_result['sigma2']\n",
    "sigma2_c = sigma2_w - 1/T * sigma2_u\n",
    "_lambda = 1 - np.sqrt(sigma2_u / (sigma2_u + T*sigma2_c))\n",
    "\n",
    "# Print lambda \n",
    "print(f'Lambda is approximately equal to {_lambda.item():.4f}.')"
   ]
  },
  {
   "cell_type": "code",
   "execution_count": 20,
   "metadata": {},
   "outputs": [
    {
     "name": "stdout",
     "output_type": "stream",
     "text": [
      "Random Effects\n",
      "Dependent variable: Log deflated sales\n",
      "\n",
      "            Beta      Se    t-values\n",
      "--------  ------  ------  ----------\n",
      "Constant  0.0000  0.0168      0.0000\n",
      "Capital   0.1989  0.0261      7.6177\n",
      "Labor     0.7197  0.0335     21.4644\n",
      "R² = 0.642\n",
      "σ² = 0.018\n"
     ]
    }
   ],
   "source": [
    "# Transform the data\n",
    "C_T = - np.eye(T, T) + _lambda * P_T\n",
    "y_re = lm.perm(C_T, y)\n",
    "x_re = lm.perm(C_T, x)\n",
    "\n",
    "# Estimate \n",
    "re_result = lm.estimate(y_re, x_re, transform='re', T=T)\n",
    "lm.print_table((label_y, label_x), re_result, title=\"Random Effects\", floatfmt='.4f')"
   ]
  },
  {
   "cell_type": "code",
   "execution_count": 21,
   "metadata": {},
   "outputs": [
    {
     "name": "stdout",
     "output_type": "stream",
     "text": [
      "The test statistic is 10.19.\n",
      "The critical value at a 5% significance level is 5.99.\n",
      "The p-value is 0.00613256.\n"
     ]
    }
   ],
   "source": [
    "\n",
    "# Hausman-test \n",
    "# Unpack\n",
    "b_fe = fe_result['b_hat'][1:3,:]      # Select only Capital and Labor coefficients\n",
    "b_re = re_result['b_hat'][1:3,:]      # Select only Capital and Labor coefficients\n",
    "cov_fe = fe_result['cov'][1:3,1:3]    # Select only Capital and Labor covariance\n",
    "cov_re = re_result['cov'][1:3,1:3]    # Select only Capital and Labor covariance\n",
    "\n",
    "# Calculate the test statistic\n",
    "b_diff = b_fe - b_re\n",
    "cov_diff = cov_fe - cov_re\n",
    "H = b_diff.T @ la.inv(cov_diff) @ b_diff\n",
    "\n",
    "# Find critical value and p-value at 5% significance level of chi^2 with M degrees of freedom\n",
    "M = len(b_diff)\n",
    "crit_val = chi2.ppf(0.95, M)\n",
    "p_val = 1 - chi2.cdf(H.item(), M)\n",
    "\n",
    "# Print the results\n",
    "print(f'The test statistic is {H.item():.2f}.')\n",
    "print(f'The critical value at a 5% significance level is {crit_val:.2f}.')\n",
    "print(f'The p-value is {p_val:.8f}.')\n"
   ]
  },
  {
   "cell_type": "markdown",
   "metadata": {},
   "source": [
    "denne sektion skal nok ind i py filen"
   ]
  },
  {
   "cell_type": "code",
   "execution_count": 22,
   "metadata": {},
   "outputs": [
    {
     "name": "stdout",
     "output_type": "stream",
     "text": [
      "CRS Wald test statistic: 19.402912054220746\n",
      "p-value: 1.0584554229753351e-05\n"
     ]
    },
    {
     "name": "stderr",
     "output_type": "stream",
     "text": [
      "/var/folders/lh/b_r46db91n9gw9k88wgs406c0000gn/T/ipykernel_35280/2878087109.py:19: DeprecationWarning: Conversion of an array with ndim > 0 to a scalar is deprecated, and will error in future. Ensure you extract a single element from your array before performing this operation. (Deprecated NumPy 1.25.)\n",
      "  W = float(diff.T @ la.inv(var_Rb) @ diff)\n"
     ]
    }
   ],
   "source": [
    "def crs_test(results):\n",
    "    \"\"\"\n",
    "    Wald test of H0: beta_K + beta_L = 1\n",
    "    where beta_K = coefficient on 'Capital'\n",
    "          beta_L = coefficient on 'Labor'\n",
    "    \"\"\"\n",
    "    # Extract coefficients (skip constant if included)\n",
    "    b = results['b_hat'][1:, :]       # Capital, Labor\n",
    "    cov = results['cov'][1:, 1:]      # covariance of (Capital, Labor)\n",
    "\n",
    "    # Restriction: R*b = q\n",
    "    R = np.array([[1, 1]])            # [1,1] * [betaK, betaL]\n",
    "    q = np.array([[1]])               # H0: = 1\n",
    "\n",
    "    # Wald statistic\n",
    "    Rb = R @ b\n",
    "    diff = Rb - q\n",
    "    var_Rb = R @ cov @ R.T\n",
    "    W = float(diff.T @ la.inv(var_Rb) @ diff)\n",
    "\n",
    "    # Chi-squared(1) distribution\n",
    "    p_value = 1 - st.chi2.cdf(W, 1)\n",
    "    return W, p_value\n",
    "\n",
    "# Example: test CRS under Fixed Effects\n",
    "W, pval = crs_test(fe_result)\n",
    "print(\"CRS Wald test statistic:\", W)\n",
    "print(\"p-value:\", pval)\n"
   ]
  },
  {
   "cell_type": "code",
   "execution_count": 23,
   "metadata": {},
   "outputs": [],
   "source": [
    "### Strict exogeneity\n",
    "# Lead lcap\n",
    "F_T = np.eye(T, k=1)\n",
    "F_T = F_T[:-1] \n",
    "\n",
    "lcap_lead = lm.perm(F_T, x[:, 2].reshape(-1, 1))"
   ]
  },
  {
   "cell_type": "code",
   "execution_count": 24,
   "metadata": {},
   "outputs": [],
   "source": [
    "# Remove the last observed year for every individual\n",
    "I_T = np.eye(T, k=0)\n",
    "I_T = I_T[:-1]\n",
    "\n",
    "x_exo = lm.perm(I_T, x)\n",
    "y_exo = lm.perm(I_T, y)"
   ]
  },
  {
   "cell_type": "code",
   "execution_count": 25,
   "metadata": {},
   "outputs": [
    {
     "name": "stdout",
     "output_type": "stream",
     "text": [
      "[[ 1.         0.9986017 -0.242185  -0.241278 ]\n",
      " [ 1.         0.9252139 -0.241278  -0.265134 ]\n",
      " [ 1.         0.8796163 -0.265134  -0.317875 ]\n",
      " ...\n",
      " [ 1.        -0.891433  -0.775592  -0.672649 ]\n",
      " [ 1.        -0.719267  -0.672649  -0.623978 ]\n",
      " [ 1.        -0.536874  -0.623978  -0.567195 ]]\n",
      "[[ 0.10680513  0.05583273  0.04680818]\n",
      " [ 0.03341733  0.05673973  0.02295218]\n",
      " [-0.01218027  0.03288373 -0.02978882]\n",
      " ...\n",
      " [ 0.28885009  0.42175355  0.39951336]\n",
      " [ 0.46101609  0.52469655  0.44818436]\n",
      " [ 0.64340909  0.57336755  0.50496736]]\n"
     ]
    }
   ],
   "source": [
    "# Add union_lead to x_exo\n",
    "x_exo = np.hstack((x_exo, lcap_lead))\n",
    "\n",
    "# Within transform the data\n",
    "Q_T = np.eye(T-1) - 1/(T-1) * np.ones((T-1, T-1))\n",
    "yw_exo = lm.perm(Q_T, y_exo)\n",
    "xw_exo = lm.perm(Q_T, x_exo)\n",
    "\n",
    "# Select variables\n",
    "xw_exo = np.hstack((xw_exo[:, 1:3], xw_exo[:, -1].reshape(-1, 1)))\n",
    "print(x_exo)\n",
    "print(xw_exo)"
   ]
  },
  {
   "cell_type": "code",
   "execution_count": 26,
   "metadata": {},
   "outputs": [
    {
     "name": "stdout",
     "output_type": "stream",
     "text": [
      "Exogeneity test\n",
      "Dependent variable: Log deflated sales\n",
      "\n",
      "                         Beta      Se    t-values\n",
      "---------------------  ------  ------  ----------\n",
      "Log capital (lcap)     0.1495  0.0291      5.1287\n",
      "Log employment (lemp)  0.5681  0.0397     14.3113\n",
      "Capital lead           0.1532  0.0281      5.4442\n",
      "R² = 0.473\n",
      "σ² = 0.016\n"
     ]
    }
   ],
   "source": [
    "# Estimate model\n",
    "exo_test = lm.estimate(yw_exo, xw_exo, transform='fe', T=T-1)\n",
    "\n",
    "# Print results\n",
    "label_exo = ['Log capital (lcap)', 'Log employment (lemp)', 'Capital lead']\n",
    "lm.print_table((label_y, label_exo), exo_test, title='Exogeneity test', floatfmt='.4f')"
   ]
  },
  {
   "cell_type": "code",
   "execution_count": 27,
   "metadata": {},
   "outputs": [],
   "source": [
    "# Make function to calculate the serial correlation\n",
    "def serial_corr(y, x, T):\n",
    "    # Calculate the residuals\n",
    "    b_hat = lm.est_ols(y, x)\n",
    "    e = y - x@b_hat\n",
    "    \n",
    "    # Create a lag transformation matrix\n",
    "    L_T = np.eye(T, k=-1)\n",
    "    L_T = L_T[1:]\n",
    "\n",
    "    # Lag residuals\n",
    "    e_l = lm.perm(L_T, e)\n",
    "\n",
    "    # Create a transformation matrix that removes the first observation of each individual\n",
    "    I_T = np.eye(T, k=0)\n",
    "    I_T = I_T[1:]\n",
    "    \n",
    "    # Remove first observation of each individual\n",
    "    e = lm.perm(I_T, e)\n",
    "    \n",
    "    # Calculate the serial correlation\n",
    "    return lm.estimate(e, e_l,T=T-1)"
   ]
  },
  {
   "cell_type": "code",
   "execution_count": 28,
   "metadata": {},
   "outputs": [
    {
     "name": "stdout",
     "output_type": "stream",
     "text": [
      "Serial Correlation\n",
      "Dependent variable: OLS residual, eᵢₜ\n",
      "\n",
      "          Beta      Se    t-values\n",
      "-----  -------  ------  ----------\n",
      "eᵢₜ₋₁  -0.1987  0.0169    -11.7557\n",
      "R² = 0.039\n",
      "σ² = 0.014\n"
     ]
    }
   ],
   "source": [
    "# Estimate serial correlation\n",
    "corr_result = serial_corr(y_diff, x_diff, T-1)\n",
    "\n",
    "# Print results\n",
    "label_ye = 'OLS residual, e\\u1d62\\u209c'\n",
    "label_e = ['e\\u1d62\\u209c\\u208B\\u2081']\n",
    "lm.print_table(\n",
    "    (label_ye, label_e), corr_result, \n",
    "    title='Serial Correlation', floatfmt='.4f'\n",
    ")"
   ]
  },
  {
   "cell_type": "code",
   "execution_count": null,
   "metadata": {},
   "outputs": [
    {
     "name": "stdout",
     "output_type": "stream",
     "text": [
      "CRS Wald test statistic (FE): 19.402912054220746\n",
      "p-value: 1.0584554229753351e-05\n"
     ]
    },
    {
     "ename": "IndexError",
     "evalue": "index 2 is out of bounds for axis 0 with size 2",
     "output_type": "error",
     "traceback": [
      "\u001b[31m---------------------------------------------------------------------------\u001b[39m",
      "\u001b[31mIndexError\u001b[39m                                Traceback (most recent call last)",
      "\u001b[36mCell\u001b[39m\u001b[36m \u001b[39m\u001b[32mIn[32]\u001b[39m\u001b[32m, line 27\u001b[39m\n\u001b[32m     24\u001b[39m \u001b[38;5;28mprint\u001b[39m(\u001b[33m\"\u001b[39m\u001b[33mp-value:\u001b[39m\u001b[33m\"\u001b[39m, p)\n\u001b[32m     26\u001b[39m \u001b[38;5;66;03m# FD: \u001b[39;00m\n\u001b[32m---> \u001b[39m\u001b[32m27\u001b[39m W, p = \u001b[43mcrs_wald_test\u001b[49m\u001b[43m(\u001b[49m\u001b[43mfd_result\u001b[49m\u001b[43m)\u001b[49m\n\u001b[32m     28\u001b[39m \u001b[38;5;28mprint\u001b[39m(\u001b[33m\"\u001b[39m\u001b[33mCRS Wald test statistic (POLS):\u001b[39m\u001b[33m\"\u001b[39m, W)\n\u001b[32m     29\u001b[39m \u001b[38;5;28mprint\u001b[39m(\u001b[33m\"\u001b[39m\u001b[33mp-value:\u001b[39m\u001b[33m\"\u001b[39m, p)\n",
      "\u001b[36mCell\u001b[39m\u001b[36m \u001b[39m\u001b[32mIn[32]\u001b[39m\u001b[32m, line 9\u001b[39m, in \u001b[36mcrs_wald_test\u001b[39m\u001b[34m(result, idx_cap, idx_labor)\u001b[39m\n\u001b[32m      7\u001b[39m b_full = np.asarray(result[\u001b[33m'\u001b[39m\u001b[33mb_hat\u001b[39m\u001b[33m'\u001b[39m]).reshape(-\u001b[32m1\u001b[39m)\n\u001b[32m      8\u001b[39m cov_full = np.asarray(result[\u001b[33m'\u001b[39m\u001b[33mcov\u001b[39m\u001b[33m'\u001b[39m])\n\u001b[32m----> \u001b[39m\u001b[32m9\u001b[39m b_vec = np.array([b_full[idx_cap], \u001b[43mb_full\u001b[49m\u001b[43m[\u001b[49m\u001b[43midx_labor\u001b[49m\u001b[43m]\u001b[49m])\n\u001b[32m     10\u001b[39m cov_2x2 = cov_full[np.ix_([idx_cap, idx_labor], [idx_cap, idx_labor])]\n\u001b[32m     12\u001b[39m R = np.array([[\u001b[32m1.0\u001b[39m, \u001b[32m1.0\u001b[39m]])\n",
      "\u001b[31mIndexError\u001b[39m: index 2 is out of bounds for axis 0 with size 2"
     ]
    }
   ],
   "source": [
    "def crs_wald_test(result, idx_cap=1, idx_labor=2):\n",
    "    \"\"\"\n",
    "    Wald test of H0: beta_K + beta_L = 1\n",
    "    Assumes result['b_hat'] and result['cov'] exist,\n",
    "    with ordering [const, beta_K, beta_L].\n",
    "    \"\"\"\n",
    "    b_full = np.asarray(result['b_hat']).reshape(-1)\n",
    "    cov_full = np.asarray(result['cov'])\n",
    "    b_vec = np.array([b_full[idx_cap], b_full[idx_labor]])\n",
    "    cov_2x2 = cov_full[np.ix_([idx_cap, idx_labor], [idx_cap, idx_labor])]\n",
    "\n",
    "    R = np.array([[1.0, 1.0]])\n",
    "    q = np.array([1.0])\n",
    "\n",
    "    diff = R @ b_vec - q\n",
    "    var_Rb = R @ cov_2x2 @ R.T\n",
    "    W = float(diff.T @ la.inv(var_Rb) @ diff)\n",
    "    p_value = 1 - st.chi2.cdf(W, 1)\n",
    "    return W, p_value\n",
    "\n",
    "# FE:\n",
    "W, p = crs_wald_test(fe_result)\n",
    "print(\"CRS Wald test statistic (FE):\", W)\n",
    "print(\"p-value:\", p)\n",
    "\n",
    "# POLS: \n",
    "W, p = crs_wald_test(pols_result)\n",
    "print(\"CRS Wald test statistic (POLS):\", W)\n",
    "print(\"p-value:\", p)"
   ]
  },
  {
   "cell_type": "code",
   "execution_count": null,
   "metadata": {},
   "outputs": [],
   "source": []
  },
  {
   "cell_type": "code",
   "execution_count": null,
   "metadata": {},
   "outputs": [],
   "source": []
  },
  {
   "cell_type": "code",
   "execution_count": null,
   "metadata": {},
   "outputs": [],
   "source": []
  },
  {
   "cell_type": "code",
   "execution_count": null,
   "metadata": {},
   "outputs": [],
   "source": []
  },
  {
   "cell_type": "code",
   "execution_count": null,
   "metadata": {},
   "outputs": [],
   "source": []
  },
  {
   "cell_type": "code",
   "execution_count": null,
   "metadata": {},
   "outputs": [],
   "source": []
  },
  {
   "cell_type": "code",
   "execution_count": null,
   "metadata": {},
   "outputs": [],
   "source": []
  }
 ],
 "metadata": {
  "kernelspec": {
   "display_name": ".conda",
   "language": "python",
   "name": "python3"
  },
  "language_info": {
   "codemirror_mode": {
    "name": "ipython",
    "version": 3
   },
   "file_extension": ".py",
   "mimetype": "text/x-python",
   "name": "python",
   "nbconvert_exporter": "python",
   "pygments_lexer": "ipython3",
   "version": "3.13.7"
  }
 },
 "nbformat": 4,
 "nbformat_minor": 4
}
